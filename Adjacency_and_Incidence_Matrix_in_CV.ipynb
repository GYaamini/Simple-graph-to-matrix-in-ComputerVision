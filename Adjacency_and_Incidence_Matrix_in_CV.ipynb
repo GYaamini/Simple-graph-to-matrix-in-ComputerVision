{
 "cells": [
  {
   "cell_type": "markdown",
   "id": "1125c64b-e507-4312-93e9-45e40bb3bf9b",
   "metadata": {
    "id": "1125c64b-e507-4312-93e9-45e40bb3bf9b"
   },
   "source": [
    "## Image Loading"
   ]
  },
  {
   "cell_type": "code",
   "execution_count": null,
   "id": "b9fb653a-c8bf-403a-a838-baf2b15703d4",
   "metadata": {
    "id": "b9fb653a-c8bf-403a-a838-baf2b15703d4"
   },
   "outputs": [],
   "source": [
    "import numpy as np\n",
    "import cv2\n",
    "import matplotlib.pyplot as plt\n",
    "import sklearn\n",
    "from PIL import Image, ImageFilter, ImageEnhance"
   ]
  },
  {
   "cell_type": "code",
   "execution_count": null,
   "id": "qi4c7i10riIs",
   "metadata": {
    "colab": {
     "base_uri": "https://localhost:8080/"
    },
    "id": "qi4c7i10riIs",
    "outputId": "3156e3b6-5da0-4eac-de86-2f5b074bb7a7"
   },
   "outputs": [],
   "source": [
    "!pip install pytesseract\n",
    "!pip install tesseract\n",
    "!sudo apt install tesseract-ocr\n",
    "!which tesseract"
   ]
  },
  {
   "cell_type": "code",
   "execution_count": null,
   "id": "UUBdcFkXroFJ",
   "metadata": {
    "colab": {
     "base_uri": "https://localhost:8080/",
     "height": 289
    },
    "id": "UUBdcFkXroFJ",
    "outputId": "8ba24075-02fa-43c5-8242-1e07dbfab015"
   },
   "outputs": [],
   "source": [
    "import pytesseract\n",
    "pytesseract.pytesseract.tesseract_cmd=r'/usr/bin/tesseract'\n",
    "\n",
    "from PIL import Image\n",
    "img=cv2.resize(cv2.imread(\"/content/img1.png\"),(1200,500))\n",
    "img = cv2.cvtColor(img, cv2.COLOR_BGR2RGB)\n",
    "cv2.imwrite(\"temp.png\",img)\n",
    "plt.imshow(img)"
   ]
  },
  {
   "cell_type": "markdown",
   "id": "6e2d369b-9800-4392-bb02-2e2ecebe0839",
   "metadata": {
    "id": "6e2d369b-9800-4392-bb02-2e2ecebe0839"
   },
   "source": [
    "## Node Text Recognition"
   ]
  },
  {
   "cell_type": "code",
   "execution_count": null,
   "id": "8f35b038-cf50-444a-be14-aa528b86e82a",
   "metadata": {
    "colab": {
     "base_uri": "https://localhost:8080/"
    },
    "id": "8f35b038-cf50-444a-be14-aa528b86e82a",
    "outputId": "067b1f22-6663-49a1-c5b2-eb5742972307"
   },
   "outputs": [],
   "source": [
    "## extract all the text visible in the image\n",
    "texts = pytesseract.image_to_string(img, config='-c tessedit_char_whitelist=ABCDEFGHIJKLM –psm 11', lang='eng')\n",
    "print(texts)\n"
   ]
  },
  {
   "cell_type": "code",
   "execution_count": null,
   "id": "cz39dlnY-IAy",
   "metadata": {
    "colab": {
     "base_uri": "https://localhost:8080/",
     "height": 271
    },
    "id": "cz39dlnY-IAy",
    "outputId": "03f11e5b-db7d-4a77-8be6-eb72010942ec"
   },
   "outputs": [],
   "source": [
    "## draw boxes around character extracted to get their position\n",
    "def draw_boxes_on_character(im,boxes):\n",
    "    img_width = im.shape[1]\n",
    "    img_height = im.shape[0]\n",
    "    counter=0\n",
    "    letters={}\n",
    "    for box in boxes.splitlines():\n",
    "        box = box.split(\" \")\n",
    "        if len(box):\n",
    "          character = box[0]\n",
    "          x = int(box[1])\n",
    "          y = int(box[2])\n",
    "          x2 = int(box[3])\n",
    "          y2 = int(box[4])\n",
    "          cv2.rectangle(im, (x, img_height - y), (x2, img_height - y2), (0, 255, 0), 1)\n",
    "          counter+=1\n",
    "          cv2.putText(im, str(counter)+\" \"+character, (x, img_height -y2), cv2.FONT_HERSHEY_COMPLEX, 1, (0, 0, 255), 1)\n",
    "          cv2.circle(im, ((x2+x)//2,img_height-(y2+y)//2), radius=5, color=(255, 100, 250), thickness=-1)\n",
    "          letters[character]=[img_height-(y+y2)//2,(x+x2)//2]\n",
    "    k=list(letters.keys())\n",
    "    k.sort()\n",
    "    letterS={i:letters[i] for i in k}\n",
    "    return im,letterS\n",
    "image= cv2.resize(cv2.cvtColor(cv2.imread(\"/content/temp.png\"),cv2.COLOR_BGR2RGB),(1400,480))\n",
    "im,letterS=draw_boxes_on_character(image,pytesseract.image_to_boxes(image, config='-c tessedit_char_whitelist=ABCDEFGHIJKLMN –psm 6', lang='eng'))\n",
    "print(letterS)\n",
    "plt.imshow(im)"
   ]
  },
  {
   "cell_type": "markdown",
   "id": "d24785b7-c559-4e2f-ace2-f1a06b4545dd",
   "metadata": {
    "id": "d24785b7-c559-4e2f-ace2-f1a06b4545dd"
   },
   "source": [
    "## Vertices Recognition"
   ]
  },
  {
   "cell_type": "code",
   "execution_count": null,
   "id": "f36841ce-7113-4bbd-a3ab-08924db09e26",
   "metadata": {
    "colab": {
     "base_uri": "https://localhost:8080/",
     "height": 289
    },
    "id": "f36841ce-7113-4bbd-a3ab-08924db09e26",
    "outputId": "b5cf3012-5373-4489-88b0-3669d1eac2d4"
   },
   "outputs": [],
   "source": [
    "image= cv2.imread(\"/content/temp.png\")\n",
    "r,c,ch=image.shape\n",
    "image=np.array(image).astype(np.uint8)\n",
    "\n",
    "def vertex(img):\n",
    "  v=np.zeros((r,c,ch)).astype(np.uint8)\n",
    "  for i in range(r):\n",
    "    for j in range(c):\n",
    "      if img[i][j][2]==max(img[i][j][:]):\n",
    "        v[i][j][0],v[i][j][1],v[i][j][2]=255,255,255\n",
    "  return v\n",
    "vertices=vertex(image)\n",
    "vertices=cv2.cvtColor(vertices,cv2.COLOR_BGR2RGB)\n",
    "\n",
    "## save the copy of image where vertices have been detected\n",
    "cv2.imwrite(\"vertices.jpg\",vertices)\n",
    "plt.imshow(vertices)"
   ]
  },
  {
   "cell_type": "code",
   "execution_count": null,
   "id": "RiIJMel_B-WP",
   "metadata": {
    "colab": {
     "base_uri": "https://localhost:8080/",
     "height": 307
    },
    "id": "RiIJMel_B-WP",
    "outputId": "0833dbd5-d86d-4ea1-b229-b2ed9430720c"
   },
   "outputs": [],
   "source": [
    "src=cv2.imread(\"vertices.jpg\")\n",
    "img = cv2.cvtColor(src, cv2.COLOR_RGB2GRAY)\n",
    "img = cv2.blur(img, (3, 3))\n",
    "cimg = src.copy() # numpy function\n",
    "\n",
    "## through Hough Circle function in computer vision library, mark the vertices in circles\n",
    "circles = cv2.HoughCircles(img, cv2.HOUGH_GRADIENT, 2, 10, np.array([]), 79, 23, 2, 26)\n",
    "circles = np.uint16(np.around(circles))\n",
    "if len(circles) != 0: # Check if circles have been found and only then iterate over these and add them to the image\n",
    "  centers=[]\n",
    "  counter=0\n",
    "  _a,b,_c = circles.shape\n",
    "  for i in range(b):\n",
    "    cv2.circle(cimg, (circles[0][i][0], circles[0][i][1]), circles[0][i][2], (255, 0, 0), 3, cv2.LINE_AA)  # draw center of circle\n",
    "    counter+=1\n",
    "    cv2.putText(cimg, str(counter), (circles[0][i][0], circles[0][i][1]), cv2.FONT_HERSHEY_COMPLEX, 2, (0, 180, 250), 5)\n",
    "    centers.append([circles[0][i][1],circles[0][i][0],circles[0][i][2]])\n",
    "  print(centers)\n",
    "plt.imshow(cimg)"
   ]
  },
  {
   "cell_type": "code",
   "execution_count": null,
   "id": "HiV-WHpEB_Sn",
   "metadata": {
    "colab": {
     "base_uri": "https://localhost:8080/"
    },
    "id": "HiV-WHpEB_Sn",
    "outputId": "c005a2a0-d0f3-4ba6-9ebb-b443f80ddaa6"
   },
   "outputs": [],
   "source": [
    "import math\n",
    "def eucledian(x,y,x2,y2):\n",
    "  return math.sqrt(((x2-x)**2)+((y2-y)**2))\n",
    "Vcenters={}\n",
    "for x,y,rad in centers:\n",
    "  minDis=999999\n",
    "  node=\"\"\n",
    "  for k,v in letterS.items():\n",
    "    dis=eucledian(x,y,v[0],v[1])\n",
    "    if minDis>dis:\n",
    "      minDis=dis\n",
    "      node=k\n",
    "  Vcenters[node]=[x,y,rad]#[x,y],letterS[node],minDis]\n",
    "k=list(Vcenters.keys())\n",
    "k.sort()\n",
    "VcenterS={i:Vcenters[i] for i in k}\n",
    "VcenterS"
   ]
  },
  {
   "cell_type": "markdown",
   "id": "e6149bf7-3fe9-4ff0-83d4-848bda7e07a8",
   "metadata": {
    "id": "e6149bf7-3fe9-4ff0-83d4-848bda7e07a8"
   },
   "source": [
    "## Edges Recognition"
   ]
  },
  {
   "cell_type": "code",
   "execution_count": null,
   "id": "bcbab3a2-75a3-42c1-b63a-26c78196efd9",
   "metadata": {
    "colab": {
     "base_uri": "https://localhost:8080/",
     "height": 289
    },
    "id": "bcbab3a2-75a3-42c1-b63a-26c78196efd9",
    "outputId": "3ecd035e-fc2d-41c1-b98e-f443d46c79d6"
   },
   "outputs": [],
   "source": [
    "def edge(img):\n",
    "  e=np.zeros((r,c,ch)).astype(np.uint8)\n",
    "  for i in range(r):\n",
    "    for j in range(c):\n",
    "      if img[i][j][0]==max(img[i][j][:]):\n",
    "        e[i][j][0],e[i][j][1],e[i][j][2]=255,255,255\n",
    "  return e\n",
    "edges=edge(image)\n",
    "edges=cv2.cvtColor(edges,cv2.COLOR_BGR2RGB)\n",
    "cv2.imwrite('edges.jpg',edges)\n",
    "plt.imshow(edges)"
   ]
  },
  {
   "cell_type": "markdown",
   "id": "8b9b83db-f4b3-4b68-b5c0-f77910ed00e2",
   "metadata": {
    "id": "8b9b83db-f4b3-4b68-b5c0-f77910ed00e2"
   },
   "source": [
    "## Check Connectivity"
   ]
  },
  {
   "cell_type": "code",
   "execution_count": null,
   "id": "50e2903b-9060-4a03-9e4f-6d6fcecb2ef3",
   "metadata": {
    "colab": {
     "base_uri": "https://localhost:8080/",
     "height": 289
    },
    "id": "50e2903b-9060-4a03-9e4f-6d6fcecb2ef3",
    "outputId": "b1181d0f-3e7e-4efe-a8b4-341b0622affe"
   },
   "outputs": [],
   "source": [
    "img1=vertices.copy()\n",
    "img2=edges.copy()\n",
    "def combineImg(img1,img2):\n",
    "  rows,cols,channels = img2.shape\n",
    "  roi = img1[0:rows, 0:cols ]\n",
    "  gray = cv2.cvtColor(img2,cv2.COLOR_BGR2GRAY)\n",
    "  ret, mask = cv2.threshold(gray, 200, 255, cv2.THRESH_BINARY_INV)\n",
    "  mask_inv = cv2.bitwise_not(mask)\n",
    "  graph = cv2.bitwise_and(roi,roi,mask = mask_inv)\n",
    "  return graph\n",
    "graph=combineImg(img1,img2)\n",
    "plt.imshow(graph)\n",
    "\n",
    "pixels, counts = np.unique(graph, return_counts=True)\n",
    "pixCount=dict(zip(pixels, counts))\n",
    "pixCount"
   ]
  },
  {
   "cell_type": "markdown",
   "id": "2ad770fa-3fd7-434e-9cfc-f602f667c05f",
   "metadata": {
    "id": "2ad770fa-3fd7-434e-9cfc-f602f667c05f"
   },
   "source": [
    "## Adjacency Matrix"
   ]
  },
  {
   "cell_type": "code",
   "execution_count": null,
   "id": "3a521ce2-70da-497d-ae5f-b40e9b955b53",
   "metadata": {
    "colab": {
     "base_uri": "https://localhost:8080/",
     "height": 576
    },
    "id": "3a521ce2-70da-497d-ae5f-b40e9b955b53",
    "outputId": "e5ebec37-c1c3-48a8-aa80-96557786cd02"
   },
   "outputs": [],
   "source": [
    "import pandas as pd\n",
    "n=len(VcenterS)\n",
    "data=np.zeros((n,n)).astype(np.int8)\n",
    "adjMatrix=pd.DataFrame(data,columns=VcenterS.keys(),index=VcenterS.keys())\n",
    "edgeCount=0\n",
    "edgeList={}\n",
    "for node,cor in VcenterS.items():\n",
    "  y,x,rad=cor[0],cor[1],cor[2]\n",
    "  for k,v in VcenterS.items():\n",
    "    if k==node or adjMatrix[node][k]>0:\n",
    "      continue\n",
    "    else:\n",
    "      y2,x2,rad2=v[0],v[1],v[2]\n",
    "      ewline=graph.copy()\n",
    "      cv2.line( ewline, (x,y), (x2,y2), (0, 0, 0), thickness=1, lineType=8)\n",
    "      newImg=combineImg(graph, ewline)\n",
    "      p, c = np.unique(newImg, return_counts=True)\n",
    "      pc=dict(zip(p, c))\n",
    "      diff=abs(pixCount[0]-pc[0])\n",
    "\n",
    "      if diff<100:\n",
    "        adjMatrix[node][k]+=1\n",
    "        adjMatrix[k][node]+=1\n",
    "        edgeCount+=1\n",
    "        edgeList[edgeCount]=[node,k]\n",
    "adjMatrix # print adjacency matrix if needed"
   ]
  },
  {
   "cell_type": "code",
   "execution_count": null,
   "id": "CjKem1OD3Pfs",
   "metadata": {
    "colab": {
     "base_uri": "https://localhost:8080/"
    },
    "id": "CjKem1OD3Pfs",
    "outputId": "b1422dad-91c1-4c26-8e94-37bc55b7f87b"
   },
   "outputs": [],
   "source": [
    "print('Edges are :')\n",
    "for k,v in edgeList.items():\n",
    "  print(str(k)+\" : \"+v[0]+\" to \"+v[1])"
   ]
  },
  {
   "cell_type": "markdown",
   "id": "070cc7e3-0abc-4b1e-a770-90f261a9a4aa",
   "metadata": {
    "id": "070cc7e3-0abc-4b1e-a770-90f261a9a4aa"
   },
   "source": [
    "## Incidence Matrix"
   ]
  },
  {
   "cell_type": "code",
   "execution_count": null,
   "id": "3b8c3e8e-9f46-456e-9375-3ef88c4fa010",
   "metadata": {
    "colab": {
     "base_uri": "https://localhost:8080/",
     "height": 385
    },
    "id": "3b8c3e8e-9f46-456e-9375-3ef88c4fa010",
    "outputId": "0f4777aa-d6c7-440d-bcc3-190f633e3967"
   },
   "outputs": [],
   "source": [
    "import pandas as pd\n",
    "n=len(VcenterS)\n",
    "m=edgeCount\n",
    "data=np.zeros((n,m)).astype(np.int8)\n",
    "incMatrix=pd.DataFrame(data,columns=[i for i in range(1,edgeCount+1)],index=VcenterS.keys())\n",
    "for k,v in edgeList.items():\n",
    "  for node in VcenterS.keys():\n",
    "    if node in v:\n",
    "      incMatrix[k][node]+=1\n",
    "incMatrix # print incidence matrix if needed"
   ]
  },
  {
   "cell_type": "code",
   "execution_count": null,
   "id": "1zGfpKiPKQqt",
   "metadata": {
    "id": "1zGfpKiPKQqt"
   },
   "outputs": [],
   "source": []
  }
 ],
 "metadata": {
  "colab": {
   "provenance": []
  },
  "kernelspec": {
   "display_name": "Python 3 (ipykernel)",
   "language": "python",
   "name": "python3"
  },
  "language_info": {
   "codemirror_mode": {
    "name": "ipython",
    "version": 3
   },
   "file_extension": ".py",
   "mimetype": "text/x-python",
   "name": "python",
   "nbconvert_exporter": "python",
   "pygments_lexer": "ipython3",
   "version": "3.11.7"
  }
 },
 "nbformat": 4,
 "nbformat_minor": 5
}
